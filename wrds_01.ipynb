{
 "cells": [
  {
   "cell_type": "code",
   "execution_count": 3,
   "metadata": {},
   "outputs": [],
   "source": []
  },
  {
   "cell_type": "code",
   "execution_count": 3,
   "metadata": {},
   "outputs": [],
   "source": [
    "!pip install wrds==3.1.1"
   ]
  },
  {
   "cell_type": "code",
   "execution_count": 1,
   "metadata": {},
   "outputs": [],
   "source": [
    "import pandas as pd\n",
    "import numpy as np\n",
    "import datetime as dt\n",
    "import wrds\n",
    "from dateutil.relativedelta import *"
   ]
  },
  {
   "cell_type": "code",
   "execution_count": 2,
   "metadata": {},
   "outputs": [
    {
     "name": "stdin",
     "output_type": "stream",
     "text": [
      "Enter your WRDS username [root]: heinem\n",
      "Enter your password: ············\n"
     ]
    },
    {
     "name": "stdout",
     "output_type": "stream",
     "text": [
      "WRDS recommends setting up a .pgpass file.\n"
     ]
    },
    {
     "name": "stdin",
     "output_type": "stream",
     "text": [
      "Create .pgpass file now [y/n]?:  y\n"
     ]
    },
    {
     "name": "stdout",
     "output_type": "stream",
     "text": [
      "Created .pgpass file successfully.\n",
      "Loading library list...\n",
      "Done\n"
     ]
    }
   ],
   "source": [
    "conn = wrds.Connection()"
   ]
  },
  {
   "cell_type": "code",
   "execution_count": 3,
   "metadata": {},
   "outputs": [],
   "source": [
    "msf = conn.raw_sql(\"\"\"\n",
    "                      select a.permno, a.date, \n",
    "                      a.ret, a.shrout, a.prc \n",
    "                      from crsp.msf as a\n",
    "                      where a.date >= '12/01/1999'\n",
    "                      \"\"\", date_cols=['date'])\n",
    "\n",
    "# keep only records with non missing ret prc and shrout value\n",
    "msf = msf[(msf['prc'].notna()) & (msf['ret'].notna()) & (msf['shrout'].notna())]\n",
    "\n",
    "msf['permno'] = msf['permno'].astype(int)\n",
    "msf['size'] = msf['shrout'] * msf['prc'].abs()\n",
    "msf['year'] = msf['date'].dt.year\n",
    "msf['month'] = msf['date'].dt.month\n",
    "\n",
    "# create msf_dec\n",
    "msf_dec = msf[msf['month']==12][['date','permno','year','size']]\n",
    "\n",
    "# create msf_ls\n",
    "msf_ls = msf.sort_values(['permno', 'date'])\n",
    "msf_ls['year_prev'] = msf_ls['year']-1\n",
    "msf_ls['size_lag'] = msf_ls.groupby('permno')['size'].shift(1)\n",
    "msf_ls['size_lag'] = np.where(msf_ls['size_lag'].isna(),\\\n",
    " msf_ls['size']/(1+msf_ls['ret']), msf_ls['size_lag'])"
   ]
  },
  {
   "cell_type": "code",
   "execution_count": 4,
   "metadata": {},
   "outputs": [],
   "source": [
    "msf_dec = msf_dec.sort_values(['year'])\n",
    "msf_dec['decile']=1+msf_dec.groupby('year')['size']\\\n",
    ".transform(lambda x: pd.qcut(x, 10, labels=False))"
   ]
  },
  {
   "cell_type": "code",
   "execution_count": 5,
   "metadata": {},
   "outputs": [],
   "source": [
    "msf_groups = pd.merge(msf_ls[['permno','date','ret','size_lag','year_prev']], \\\n",
    "                      msf_dec[['permno','year','decile']], how='left', \\\n",
    "                      left_on=['permno','year_prev'], right_on=['permno','year'])\n",
    "\n",
    "msf_groups=msf_groups[msf_groups['decile'].notna()]"
   ]
  },
  {
   "cell_type": "code",
   "execution_count": 6,
   "metadata": {},
   "outputs": [],
   "source": [
    "msf_groups = msf_groups.sort_values(['decile', 'date'])\n",
    "\n",
    "# function to calculate value weighted return\n",
    "def wavg(group, avg_name, weight_name):\n",
    "    d = group[avg_name]\n",
    "    w = group[weight_name]\n",
    "    try:\n",
    "        return (d * w).sum() / w.sum()\n",
    "    except ZeroDivisionError:\n",
    "        return np.nan\n",
    "\n",
    "# value-weigthed return\n",
    "vwrets=msf_groups.groupby(['decile','date']).apply(wavg, 'ret','size_lag')\\\n",
    ".to_frame().reset_index().rename(columns={0: 'vwret'})"
   ]
  },
  {
   "cell_type": "code",
   "execution_count": 7,
   "metadata": {},
   "outputs": [],
   "source": [
    "msix = conn.raw_sql(\"\"\"\n",
    "                      select caldt, decret1, decret2, decret3, decret4, decret5,\n",
    "                      decret6, decret7, decret8, decret9, decret10\n",
    "                      from crsp.msix where caldt >= '12/01/1999'\n",
    "                      \"\"\", date_cols=['caldt']) \n",
    "\n",
    "# transpose msix data\n",
    "msix1=pd.melt(msix, id_vars='caldt', \\\n",
    "              value_vars=['decret1','decret2', 'decret3', 'decret4', 'decret5', 'decret6', \\\n",
    "'decret7', 'decret8','decret9','decret10'])\n",
    "\n",
    "# extract decile information from decret\n",
    "msix1['decile'] = msix1['variable'].str[6:].astype(int)\n",
    "# rename return column\n",
    "msix1 = msix1.rename(columns={'value':'decret', 'caldt':'date'})\n",
    "msix1 = msix1.drop(['variable'], axis=1)\n",
    "\n",
    "decile_returns = pd.merge(vwrets, msix1, how='left', on=['date','decile'])"
   ]
  },
  {
   "cell_type": "code",
   "execution_count": 8,
   "metadata": {},
   "outputs": [
    {
     "data": {
      "text/html": [
       "<div>\n",
       "<style scoped>\n",
       "    .dataframe tbody tr th:only-of-type {\n",
       "        vertical-align: middle;\n",
       "    }\n",
       "\n",
       "    .dataframe tbody tr th {\n",
       "        vertical-align: top;\n",
       "    }\n",
       "\n",
       "    .dataframe thead th {\n",
       "        text-align: right;\n",
       "    }\n",
       "</style>\n",
       "<table border=\"1\" class=\"dataframe\">\n",
       "  <thead>\n",
       "    <tr style=\"text-align: right;\">\n",
       "      <th></th>\n",
       "      <th>decile</th>\n",
       "      <th>date</th>\n",
       "      <th>vwret</th>\n",
       "      <th>decret</th>\n",
       "    </tr>\n",
       "  </thead>\n",
       "  <tbody>\n",
       "    <tr>\n",
       "      <th>0</th>\n",
       "      <td>1.0</td>\n",
       "      <td>2000-01-31</td>\n",
       "      <td>0.222626</td>\n",
       "      <td>0.207740</td>\n",
       "    </tr>\n",
       "    <tr>\n",
       "      <th>1</th>\n",
       "      <td>1.0</td>\n",
       "      <td>2000-02-29</td>\n",
       "      <td>0.246672</td>\n",
       "      <td>0.240418</td>\n",
       "    </tr>\n",
       "    <tr>\n",
       "      <th>2</th>\n",
       "      <td>1.0</td>\n",
       "      <td>2000-03-31</td>\n",
       "      <td>-0.024419</td>\n",
       "      <td>-0.027778</td>\n",
       "    </tr>\n",
       "    <tr>\n",
       "      <th>3</th>\n",
       "      <td>1.0</td>\n",
       "      <td>2000-04-28</td>\n",
       "      <td>-0.175907</td>\n",
       "      <td>-0.170390</td>\n",
       "    </tr>\n",
       "    <tr>\n",
       "      <th>4</th>\n",
       "      <td>1.0</td>\n",
       "      <td>2000-05-31</td>\n",
       "      <td>-0.093232</td>\n",
       "      <td>-0.087108</td>\n",
       "    </tr>\n",
       "  </tbody>\n",
       "</table>\n",
       "</div>"
      ],
      "text/plain": [
       "   decile       date     vwret    decret\n",
       "0     1.0 2000-01-31  0.222626  0.207740\n",
       "1     1.0 2000-02-29  0.246672  0.240418\n",
       "2     1.0 2000-03-31 -0.024419 -0.027778\n",
       "3     1.0 2000-04-28 -0.175907 -0.170390\n",
       "4     1.0 2000-05-31 -0.093232 -0.087108"
      ]
     },
     "execution_count": 8,
     "metadata": {},
     "output_type": "execute_result"
    }
   ],
   "source": [
    "decile_returns.head()"
   ]
  },
  {
   "cell_type": "code",
   "execution_count": null,
   "metadata": {},
   "outputs": [],
   "source": []
  },
  {
   "cell_type": "code",
   "execution_count": null,
   "metadata": {},
   "outputs": [],
   "source": []
  },
  {
   "cell_type": "code",
   "execution_count": null,
   "metadata": {},
   "outputs": [],
   "source": []
  },
  {
   "cell_type": "code",
   "execution_count": null,
   "metadata": {},
   "outputs": [],
   "source": []
  },
  {
   "cell_type": "code",
   "execution_count": null,
   "metadata": {},
   "outputs": [],
   "source": []
  },
  {
   "cell_type": "code",
   "execution_count": null,
   "metadata": {},
   "outputs": [],
   "source": []
  }
 ],
 "metadata": {
  "instance_type": "ml.t3.medium",
  "kernelspec": {
   "display_name": "Python 3 (Data Science)",
   "language": "python",
   "name": "python3__SAGEMAKER_INTERNAL__arn:aws:sagemaker:ap-northeast-1:102112518831:image/datascience-1.0"
  },
  "language_info": {
   "codemirror_mode": {
    "name": "ipython",
    "version": 3
   },
   "file_extension": ".py",
   "mimetype": "text/x-python",
   "name": "python",
   "nbconvert_exporter": "python",
   "pygments_lexer": "ipython3",
   "version": "3.7.10"
  }
 },
 "nbformat": 4,
 "nbformat_minor": 4
}
