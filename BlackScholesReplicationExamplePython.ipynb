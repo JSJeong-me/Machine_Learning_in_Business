{
  "cells": [
    {
      "cell_type": "markdown",
      "metadata": {
        "id": "view-in-github",
        "colab_type": "text"
      },
      "source": [
        "<a href=\"https://colab.research.google.com/github/JSJeong-me/Machine_Learning_in_Business/blob/main/BlackScholesReplicationExamplePython.ipynb\" target=\"_parent\"><img src=\"https://colab.research.google.com/assets/colab-badge.svg\" alt=\"Open In Colab\"/></a>"
      ]
    },
    {
      "cell_type": "code",
      "execution_count": 1,
      "metadata": {
        "id": "YAfO2gP6xZss"
      },
      "outputs": [],
      "source": [
        "# Expect this program to run for 30 minutes or more\n",
        "# Load package\n",
        "import numpy as np\n",
        "from scipy.stats import norm\n",
        "import random\n",
        "import matplotlib.pyplot as plt\n",
        "import numpy as np\n",
        "import pandas as pd\n",
        "\n",
        "\n",
        "from sklearn.model_selection import train_test_split\n",
        "from sklearn.linear_model import LinearRegression\n",
        "from sklearn.metrics import mean_squared_error\n",
        "from sklearn.preprocessing import StandardScaler\n",
        "\n",
        "\n",
        "import tensorflow as tf\n",
        "from tensorflow.keras.layers import Dense\n",
        "from tensorflow import keras\n",
        "\n",
        "from numpy.random import seed\n",
        "seed(100)\n",
        "\n",
        "\n",
        "import matplotlib.pyplot as plt\n",
        "from IPython.display import clear_output\n",
        "\n",
        "n = norm.pdf\n",
        "N = norm.cdf"
      ]
    },
    {
      "cell_type": "code",
      "execution_count": 2,
      "metadata": {
        "scrolled": true,
        "colab": {
          "base_uri": "https://localhost:8080/",
          "height": 322
        },
        "id": "YAwzhEWwxZsv",
        "outputId": "db2c967a-8cb4-480f-a12a-c7612448d9e1"
      },
      "outputs": [
        {
          "output_type": "execute_result",
          "data": {
            "text/html": [
              "\n",
              "  <div id=\"df-748d9464-d749-4a1b-81c0-709a4fa4fc46\">\n",
              "    <div class=\"colab-df-container\">\n",
              "      <div>\n",
              "<style scoped>\n",
              "    .dataframe tbody tr th:only-of-type {\n",
              "        vertical-align: middle;\n",
              "    }\n",
              "\n",
              "    .dataframe tbody tr th {\n",
              "        vertical-align: top;\n",
              "    }\n",
              "\n",
              "    .dataframe thead th {\n",
              "        text-align: right;\n",
              "    }\n",
              "</style>\n",
              "<table border=\"1\" class=\"dataframe\">\n",
              "  <thead>\n",
              "    <tr style=\"text-align: right;\">\n",
              "      <th></th>\n",
              "      <th>Spot price</th>\n",
              "      <th>Strike Price</th>\n",
              "      <th>Risk Free Rate</th>\n",
              "      <th>Volatility</th>\n",
              "      <th>Maturity</th>\n",
              "      <th>Dividend</th>\n",
              "      <th>Option Price</th>\n",
              "      <th>Noise</th>\n",
              "      <th>Option Price with Noise</th>\n",
              "    </tr>\n",
              "  </thead>\n",
              "  <tbody>\n",
              "    <tr>\n",
              "      <th>0</th>\n",
              "      <td>55.84</td>\n",
              "      <td>72.592</td>\n",
              "      <td>0.013</td>\n",
              "      <td>0.276</td>\n",
              "      <td>1.78</td>\n",
              "      <td>0</td>\n",
              "      <td>3.569203</td>\n",
              "      <td>-0.262465</td>\n",
              "      <td>3.306738</td>\n",
              "    </tr>\n",
              "    <tr>\n",
              "      <th>1</th>\n",
              "      <td>57.96</td>\n",
              "      <td>34.776</td>\n",
              "      <td>0.033</td>\n",
              "      <td>0.171</td>\n",
              "      <td>0.85</td>\n",
              "      <td>0</td>\n",
              "      <td>24.146475</td>\n",
              "      <td>0.051402</td>\n",
              "      <td>24.197877</td>\n",
              "    </tr>\n",
              "    <tr>\n",
              "      <th>2</th>\n",
              "      <td>43.70</td>\n",
              "      <td>52.440</td>\n",
              "      <td>0.041</td>\n",
              "      <td>0.262</td>\n",
              "      <td>1.19</td>\n",
              "      <td>0</td>\n",
              "      <td>2.764509</td>\n",
              "      <td>0.172955</td>\n",
              "      <td>2.937464</td>\n",
              "    </tr>\n",
              "    <tr>\n",
              "      <th>3</th>\n",
              "      <td>54.44</td>\n",
              "      <td>65.328</td>\n",
              "      <td>0.041</td>\n",
              "      <td>0.289</td>\n",
              "      <td>1.63</td>\n",
              "      <td>0</td>\n",
              "      <td>5.529263</td>\n",
              "      <td>-0.037865</td>\n",
              "      <td>5.491398</td>\n",
              "    </tr>\n",
              "    <tr>\n",
              "      <th>4</th>\n",
              "      <td>53.42</td>\n",
              "      <td>58.762</td>\n",
              "      <td>0.037</td>\n",
              "      <td>0.322</td>\n",
              "      <td>1.20</td>\n",
              "      <td>0</td>\n",
              "      <td>6.357704</td>\n",
              "      <td>0.147198</td>\n",
              "      <td>6.504902</td>\n",
              "    </tr>\n",
              "  </tbody>\n",
              "</table>\n",
              "</div>\n",
              "      <button class=\"colab-df-convert\" onclick=\"convertToInteractive('df-748d9464-d749-4a1b-81c0-709a4fa4fc46')\"\n",
              "              title=\"Convert this dataframe to an interactive table.\"\n",
              "              style=\"display:none;\">\n",
              "        \n",
              "  <svg xmlns=\"http://www.w3.org/2000/svg\" height=\"24px\"viewBox=\"0 0 24 24\"\n",
              "       width=\"24px\">\n",
              "    <path d=\"M0 0h24v24H0V0z\" fill=\"none\"/>\n",
              "    <path d=\"M18.56 5.44l.94 2.06.94-2.06 2.06-.94-2.06-.94-.94-2.06-.94 2.06-2.06.94zm-11 1L8.5 8.5l.94-2.06 2.06-.94-2.06-.94L8.5 2.5l-.94 2.06-2.06.94zm10 10l.94 2.06.94-2.06 2.06-.94-2.06-.94-.94-2.06-.94 2.06-2.06.94z\"/><path d=\"M17.41 7.96l-1.37-1.37c-.4-.4-.92-.59-1.43-.59-.52 0-1.04.2-1.43.59L10.3 9.45l-7.72 7.72c-.78.78-.78 2.05 0 2.83L4 21.41c.39.39.9.59 1.41.59.51 0 1.02-.2 1.41-.59l7.78-7.78 2.81-2.81c.8-.78.8-2.07 0-2.86zM5.41 20L4 18.59l7.72-7.72 1.47 1.35L5.41 20z\"/>\n",
              "  </svg>\n",
              "      </button>\n",
              "      \n",
              "  <style>\n",
              "    .colab-df-container {\n",
              "      display:flex;\n",
              "      flex-wrap:wrap;\n",
              "      gap: 12px;\n",
              "    }\n",
              "\n",
              "    .colab-df-convert {\n",
              "      background-color: #E8F0FE;\n",
              "      border: none;\n",
              "      border-radius: 50%;\n",
              "      cursor: pointer;\n",
              "      display: none;\n",
              "      fill: #1967D2;\n",
              "      height: 32px;\n",
              "      padding: 0 0 0 0;\n",
              "      width: 32px;\n",
              "    }\n",
              "\n",
              "    .colab-df-convert:hover {\n",
              "      background-color: #E2EBFA;\n",
              "      box-shadow: 0px 1px 2px rgba(60, 64, 67, 0.3), 0px 1px 3px 1px rgba(60, 64, 67, 0.15);\n",
              "      fill: #174EA6;\n",
              "    }\n",
              "\n",
              "    [theme=dark] .colab-df-convert {\n",
              "      background-color: #3B4455;\n",
              "      fill: #D2E3FC;\n",
              "    }\n",
              "\n",
              "    [theme=dark] .colab-df-convert:hover {\n",
              "      background-color: #434B5C;\n",
              "      box-shadow: 0px 1px 3px 1px rgba(0, 0, 0, 0.15);\n",
              "      filter: drop-shadow(0px 1px 2px rgba(0, 0, 0, 0.3));\n",
              "      fill: #FFFFFF;\n",
              "    }\n",
              "  </style>\n",
              "\n",
              "      <script>\n",
              "        const buttonEl =\n",
              "          document.querySelector('#df-748d9464-d749-4a1b-81c0-709a4fa4fc46 button.colab-df-convert');\n",
              "        buttonEl.style.display =\n",
              "          google.colab.kernel.accessAllowed ? 'block' : 'none';\n",
              "\n",
              "        async function convertToInteractive(key) {\n",
              "          const element = document.querySelector('#df-748d9464-d749-4a1b-81c0-709a4fa4fc46');\n",
              "          const dataTable =\n",
              "            await google.colab.kernel.invokeFunction('convertToInteractive',\n",
              "                                                     [key], {});\n",
              "          if (!dataTable) return;\n",
              "\n",
              "          const docLinkHtml = 'Like what you see? Visit the ' +\n",
              "            '<a target=\"_blank\" href=https://colab.research.google.com/notebooks/data_table.ipynb>data table notebook</a>'\n",
              "            + ' to learn more about interactive tables.';\n",
              "          element.innerHTML = '';\n",
              "          dataTable['output_type'] = 'display_data';\n",
              "          await google.colab.output.renderOutput(dataTable, element);\n",
              "          const docLink = document.createElement('div');\n",
              "          docLink.innerHTML = docLinkHtml;\n",
              "          element.appendChild(docLink);\n",
              "        }\n",
              "      </script>\n",
              "    </div>\n",
              "  </div>\n",
              "  "
            ],
            "text/plain": [
              "   Spot price  Strike Price  ...     Noise  Option Price with Noise\n",
              "0       55.84        72.592  ... -0.262465                 3.306738\n",
              "1       57.96        34.776  ...  0.051402                24.197877\n",
              "2       43.70        52.440  ...  0.172955                 2.937464\n",
              "3       54.44        65.328  ... -0.037865                 5.491398\n",
              "4       53.42        58.762  ...  0.147198                 6.504902\n",
              "\n",
              "[5 rows x 9 columns]"
            ]
          },
          "metadata": {},
          "execution_count": 2
        }
      ],
      "source": [
        "# Load option data \n",
        "option_dataset = pd.read_csv('Option_Data.csv')\n",
        "option_dataset.head()"
      ]
    },
    {
      "cell_type": "markdown",
      "metadata": {
        "id": "Ewaa9r1sxZsw"
      },
      "source": [
        "## Divide data into Training, Validation and Test set"
      ]
    },
    {
      "cell_type": "code",
      "execution_count": 3,
      "metadata": {
        "id": "AmvwaPeYxZsy"
      },
      "outputs": [],
      "source": [
        "# Include option price with and without noise in data set splitting for later BS mean error calculation on test set\n",
        "y = option_dataset[['Option Price with Noise','Option Price']]\n",
        "X = option_dataset[['Spot price', 'Strike Price', 'Risk Free Rate','Volatility','Maturity','Dividend']]\n",
        "\n",
        "# Divide data into training set and test set(note that random seed is set)\n",
        "X_train,X_test,y_train,y_test=train_test_split(X,y,test_size=0.2,random_state=100)\n",
        "\n",
        "# Divide training set into training and validation set\n",
        "X_train,X_val,y_train,y_val=train_test_split(X_train,y_train,test_size=0.25,random_state=100)"
      ]
    },
    {
      "cell_type": "markdown",
      "metadata": {
        "id": "DFY2eL7NxZsy"
      },
      "source": [
        "## Feature Scaling"
      ]
    },
    {
      "cell_type": "code",
      "execution_count": 4,
      "metadata": {
        "id": "VUUyDpZcxZsz"
      },
      "outputs": [],
      "source": [
        "# Scale features based on Z-Score\n",
        "scaler = StandardScaler()\n",
        "scaler.fit(X_train)\n",
        "\n",
        "\n",
        "X_scaled_train = scaler.transform(X_train)\n",
        "X_scaled_vals = scaler.transform(X_val)\n",
        "X_scaled_test = scaler.transform(X_test)\n",
        "y_train = np.asarray(y_train)\n",
        "y_val = np.asarray(y_val)\n",
        "y_test = np.asarray(y_test)"
      ]
    },
    {
      "cell_type": "markdown",
      "metadata": {
        "id": "ZmeyBNfwxZs0"
      },
      "source": [
        "## Define Neural Network"
      ]
    },
    {
      "cell_type": "code",
      "execution_count": 5,
      "metadata": {
        "colab": {
          "base_uri": "https://localhost:8080/"
        },
        "id": "Obkq4SdMxZs1",
        "outputId": "490eb98b-42af-45d1-a8ca-66e332febb8e"
      },
      "outputs": [
        {
          "output_type": "stream",
          "name": "stdout",
          "text": [
            "Model: \"sequential\"\n",
            "_________________________________________________________________\n",
            " Layer (type)                Output Shape              Param #   \n",
            "=================================================================\n",
            " dense (Dense)               (None, 20)                140       \n",
            "                                                                 \n",
            " dense_1 (Dense)             (None, 20)                420       \n",
            "                                                                 \n",
            " dense_2 (Dense)             (None, 20)                420       \n",
            "                                                                 \n",
            " dense_3 (Dense)             (None, 1)                 21        \n",
            "                                                                 \n",
            "=================================================================\n",
            "Total params: 1,001\n",
            "Trainable params: 1,001\n",
            "Non-trainable params: 0\n",
            "_________________________________________________________________\n"
          ]
        }
      ],
      "source": [
        "# Create ML Model\n",
        "# Sequential function allows you to define your Neural Network in sequential order\n",
        "# Within Sequential, use Dense function to define number of nodes, activation function and other related parameters \n",
        "# For more information regrading to activation functoin, please refer to https://keras.io/activations/\n",
        "model = keras.models.Sequential([Dense(20,activation = \"sigmoid\",input_shape = (6,)),\n",
        "                                 Dense(20,activation = \"sigmoid\"),Dense(20,activation = \"sigmoid\"),\n",
        "                                Dense(1)])\n",
        "\n",
        "# Model summary function shows what you created in the model\n",
        "model.summary()"
      ]
    },
    {
      "cell_type": "code",
      "execution_count": 6,
      "metadata": {
        "id": "uV4Q4yXWxZs2"
      },
      "outputs": [],
      "source": [
        "# Complie function allows you to choose your measure of loss and optimzer\n",
        "# For other optimizer, please refer to https://keras.io/optimizers/\n",
        "model.compile(loss = \"mae\",optimizer = \"Adam\")"
      ]
    },
    {
      "cell_type": "code",
      "execution_count": 7,
      "metadata": {
        "id": "9383j2TxxZs3"
      },
      "outputs": [],
      "source": [
        "# Checkpoint function is used here to periodically save a copy of the model. \n",
        "# Currently it is set to save the best performing model\n",
        "checkpoint_cb = keras.callbacks.ModelCheckpoint(\"bs_pricing_model_vFinal.h5\",save_best_only = True)\n",
        "\n",
        "# Early stopping allows you to stop your training early if no improvment is shown after cerain period\n",
        "# Currently it is set at if no improvement occured in 5000 epochs, at the stop the model will also revert back to the best weight\n",
        "early_stopping_cb = keras.callbacks.EarlyStopping(patience = 5000,restore_best_weights = True)\n",
        "\n",
        "# Remark: checkpoint could be redundant here as early stopping function can also help restoring to the best weight\n",
        "# We put both here just to illustrate different ways to keep the best model"
      ]
    },
    {
      "cell_type": "code",
      "execution_count": 8,
      "metadata": {
        "scrolled": false,
        "id": "xxVlQjLDxZs4"
      },
      "outputs": [],
      "source": [
        "# train your model\n",
        "# The fit function allows you to train a NN model. Here we have training data, number of epochs, validation data, \n",
        "# and callbacks as input\n",
        "# Callback is an optional parameters that allow you to enable tricks for training such as early stopping and checkpoint\n",
        "\n",
        "# Remarks: Altough we put 50000 epochs here, the model will stop its training once our early stopping criterion is triggered\n",
        "# Also, select the first column of y_train data array, which is the option price with noise column\n",
        "history=model.fit(X_scaled_train,y_train[:,0],epochs= 50000,verbose = 0, validation_data=(X_scaled_vals,y_val[:,0]),\n",
        "                 callbacks=[checkpoint_cb,early_stopping_cb])\n",
        "\n",
        "\n"
      ]
    },
    {
      "cell_type": "markdown",
      "metadata": {
        "id": "vfTYxPXKxZs4"
      },
      "source": [
        "## Calculate prediction error for both NN and BS analytical formula"
      ]
    },
    {
      "cell_type": "code",
      "execution_count": 9,
      "metadata": {
        "colab": {
          "base_uri": "https://localhost:8080/"
        },
        "id": "mLh-mICuxZs5",
        "outputId": "6964fd37-93fb-47c2-a3c3-47edcf830988"
      },
      "outputs": [
        {
          "output_type": "stream",
          "name": "stdout",
          "text": [
            "Nerual network mean absoluste error on test set: 0.12288084626197815\n"
          ]
        }
      ],
      "source": [
        "# Load the best model you saved and calcuate MAE for testing set\n",
        "\n",
        "model = keras.models.load_model(\"bs_pricing_model_vFinal.h5\")\n",
        "\n",
        "mae_test = model.evaluate(X_scaled_test,y_test[:,0],verbose=0)\n",
        "\n",
        "print('Nerual network mean absoluste error on test set:', mae_test)"
      ]
    },
    {
      "cell_type": "code",
      "execution_count": 10,
      "metadata": {
        "colab": {
          "base_uri": "https://localhost:8080/"
        },
        "id": "wpK_hOmCxZs5",
        "outputId": "52509fc3-f83b-49ab-eb2c-6f22ca2f3c15"
      },
      "outputs": [
        {
          "output_type": "stream",
          "name": "stdout",
          "text": [
            "Black-Scholes Statistics:\n",
            "Mean error on test set: 0.005381285272161474\n",
            "Standard deviation of error on test set: 0.14823355567443214\n",
            " \n",
            "Neural Network Statistics:\n",
            "Mean error on test set vs. option price with noise: -0.0025363984519351473\n",
            "Standard deviation of error on test set vs. option price with noise: 0.15520746582129677\n",
            "Mean error on test set vs. BS analytical formula price: 0.002844886820226326\n",
            "Standard deviation of error on test set vs. BS analytical formula price: 0.04647913360337091\n"
          ]
        }
      ],
      "source": [
        "model_prediction = model.predict(X_scaled_test)\n",
        "mean_error = np.average(model_prediction.T - y_test[:,0])\n",
        "std_error = np.std(model_prediction.T - y_test[:,0])\n",
        "\n",
        "mean_error_vs_BS_price = np.average(model_prediction.T - y_test[:,1])\n",
        "std_error_vs_BS_price = np.std(model_prediction.T - y_test[:,1])\n",
        "\n",
        "BS_mean_error = np.average(y_test[:,0] - y_test[:,1])\n",
        "BS_std_error = np.std(y_test[:,0] - y_test[:,1])\n",
        "\n",
        "print('Black-Scholes Statistics:')\n",
        "print('Mean error on test set:',BS_mean_error)\n",
        "print('Standard deviation of error on test set:',BS_std_error)\n",
        "print(\" \")\n",
        "print('Neural Network Statistics:')\n",
        "print('Mean error on test set vs. option price with noise:',mean_error)\n",
        "print('Standard deviation of error on test set vs. option price with noise:',std_error)\n",
        "print('Mean error on test set vs. BS analytical formula price:',mean_error_vs_BS_price)\n",
        "print('Standard deviation of error on test set vs. BS analytical formula price:',std_error_vs_BS_price)\n",
        "\n"
      ]
    },
    {
      "cell_type": "markdown",
      "metadata": {
        "id": "X0AK3C55xZs6"
      },
      "source": [
        "## Review your results and export training history"
      ]
    },
    {
      "cell_type": "code",
      "execution_count": 11,
      "metadata": {
        "colab": {
          "base_uri": "https://localhost:8080/",
          "height": 324
        },
        "id": "cdBeCS9XxZs6",
        "outputId": "2baf40c5-21d9-448b-a307-a93bf084694c"
      },
      "outputs": [
        {
          "output_type": "display_data",
          "data": {
            "image/png": "[encoded data removed]",
            "text/plain": [
              "<Figure size 576x360 with 1 Axes>"
            ]
          },
          "metadata": {
            "needs_background": "light"
          }
        }
      ],
      "source": [
        "# Plot training history\n",
        "\n",
        "pd.DataFrame(history.history).plot(figsize=(8,5))\n",
        "plt.grid(True)\n",
        "plt.gca().set_ylim(0.1,0.2)\n",
        "plt.show()\n",
        "\n",
        "#Export your training history for MSE\n",
        "output = pd.DataFrame(history.history)\n",
        "output.to_csv(\"mae_history.csv\")"
      ]
    },
    {
      "cell_type": "code",
      "execution_count": null,
      "metadata": {
        "id": "tCuQ6d8PxZs6"
      },
      "outputs": [],
      "source": [
        ""
      ]
    }
  ],
  "metadata": {
    "kernelspec": {
      "display_name": "Python 3",
      "language": "python",
      "name": "python3"
    },
    "language_info": {
      "codemirror_mode": {
        "name": "ipython",
        "version": 3
      },
      "file_extension": ".py",
      "mimetype": "text/x-python",
      "name": "python",
      "nbconvert_exporter": "python",
      "pygments_lexer": "ipython3",
      "version": "3.7.4"
    },
    "colab": {
      "name": "BlackScholesReplicationExamplePython.ipynb",
      "provenance": [],
      "include_colab_link": true
    },
    "accelerator": "GPU"
  },
  "nbformat": 4,
  "nbformat_minor": 0
}