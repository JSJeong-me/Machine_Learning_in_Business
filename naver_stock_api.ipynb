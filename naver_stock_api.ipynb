{
  "cells": [
    {
      "cell_type": "markdown",
      "metadata": {
        "id": "view-in-github",
        "colab_type": "text"
      },
      "source": [
        "<a href=\"https://colab.research.google.com/github/JSJeong-me/Machine_Learning_in_Business/blob/main/naver_stock_api.ipynb\" target=\"_parent\"><img src=\"https://colab.research.google.com/assets/colab-badge.svg\" alt=\"Open In Colab\"/></a>"
      ]
    },
    {
      "cell_type": "code",
      "source": [
        "from urllib import parse\n",
        "from ast import literal_eval\n",
        "import requests"
      ],
      "metadata": {
        "id": "Qdx5Ot6B162X"
      },
      "id": "Qdx5Ot6B162X",
      "execution_count": 1,
      "outputs": []
    },
    {
      "cell_type": "code",
      "execution_count": 2,
      "id": "1c21939c-2163-437b-ae4b-5b16c6de6883",
      "metadata": {
        "id": "1c21939c-2163-437b-ae4b-5b16c6de6883"
      },
      "outputs": [],
      "source": [
        "def get_sise(code, start_time, end_time, time_from='day'):\n",
        "    get_param = { 'symbol':code, 'requestType':1, 'startTime':start_time, 'endTime':end_time, 'timeframe':time_from }\n",
        "    get_param = parse.urlencode(get_param)\n",
        "    url=\"https://api.finance.naver.com/siseJson.naver?%s\"%(get_param)\n",
        "    response = requests.get(url) \n",
        "    return literal_eval(response.text.strip())"
      ]
    },
    {
      "cell_type": "code",
      "execution_count": 3,
      "id": "d1d4fbb7-3139-409d-bc3d-c2a4555211e4",
      "metadata": {
        "colab": {
          "base_uri": "https://localhost:8080/"
        },
        "id": "d1d4fbb7-3139-409d-bc3d-c2a4555211e4",
        "outputId": "ac3ae74d-fa64-4b29-8051-ac001af2c981"
      },
      "outputs": [
        {
          "output_type": "execute_result",
          "data": {
            "text/plain": [
              "[['날짜', '시가', '고가', '저가', '종가', '거래량', '외국인소진율'],\n",
              " ['20210601', 80500, 81300, 80100, 80600, 14058401, 53.69],\n",
              " ['20210602', 80400, 81400, 80300, 80800, 16414644, 53.73],\n",
              " ['20210603', 81300, 83000, 81100, 82800, 29546007, 53.82],\n",
              " ['20210604', 82700, 82700, 81500, 82200, 18112259, 53.84]]"
            ]
          },
          "metadata": {},
          "execution_count": 3
        }
      ],
      "source": [
        "get_sise('005930', '20210601', '20210605', 'day')"
      ]
    }
  ],
  "metadata": {
    "kernelspec": {
      "display_name": "Python Quant",
      "language": "python",
      "name": "quant"
    },
    "language_info": {
      "codemirror_mode": {
        "name": "ipython",
        "version": 3
      },
      "file_extension": ".py",
      "mimetype": "text/x-python",
      "name": "python",
      "nbconvert_exporter": "python",
      "pygments_lexer": "ipython3",
      "version": "3.6.13"
    },
    "colab": {
      "name": "naver_api.ipynb",
      "provenance": [],
      "include_colab_link": true
    }
  },
  "nbformat": 4,
  "nbformat_minor": 5
}